{
 "cells": [
  {
   "cell_type": "code",
   "execution_count": 1,
   "id": "334ca85b",
   "metadata": {},
   "outputs": [],
   "source": [
    "import numpy as np\n",
    "import pandas as pd\n",
    "import matplotlib.pyplot as plt\n",
    "import seaborn as sns\n",
    "import os, json, math, time\n",
    "from yelpapi import YelpAPI\n",
    "from tqdm.notebook import tqdm_notebook"
   ]
  },
  {
   "cell_type": "code",
   "execution_count": 2,
   "id": "8d81e90b",
   "metadata": {},
   "outputs": [],
   "source": [
    "#Load Credentials\n",
    "with open('/Users/jfabe/.secret/yelp_api.json') as f:\n",
    "    login=json.load(f)\n",
    "    \n",
    "#Instantiate YelpAPI\n",
    "yelp_api = YelpAPI(login['api-key'], timeout_s=5.0)"
   ]
  },
  {
   "cell_type": "code",
   "execution_count": 5,
   "id": "cdbad581",
   "metadata": {},
   "outputs": [
    {
     "data": {
      "text/plain": [
       "'Data/results_in_prog_SF_pizza.json'"
      ]
     },
     "execution_count": 5,
     "metadata": {},
     "output_type": "execute_result"
    }
   ],
   "source": [
    "JSON_FILE = f\"Data/results_in_prog_SF_pizza.json\"\n",
    "JSON_FILE"
   ]
  },
  {
   "cell_type": "code",
   "execution_count": 8,
   "id": "e90ab2e1",
   "metadata": {},
   "outputs": [],
   "source": [
    "def create_json_file(JSON_FILE, delete_if_exists=False):\n",
    "    #Check if exists\n",
    "    file_exists=os.path.isfile(JSON_FILE)\n",
    "    \n",
    "    #If it DOES exist\n",
    "    if file_exists==True:\n",
    "        if delete_if_exists==True:\n",
    "            print(f\"[!]{JSON_FILE} already exists. Deleting previous file...\")\n",
    "            os.remove(JSON_FILE)\n",
    "        else:\n",
    "            print(f\"[!]{JSON_FILE} already exists.\")\n",
    "            \n",
    "            \n",
    "    #If it DOESN'T exist\n",
    "    else:\n",
    "        print(f\"[!]{JSON_FILE} not found. Saving empty list to new file.\")\n",
    "        \n",
    "        #Create folder if needed\n",
    "        folder = os.path.dirname(JSON_FILE)\n",
    "        if len(folder)>0:\n",
    "            os.makedirs(folder,exist_ok=True)\n",
    "        \n",
    "        with open(JSON_FILE,'w') as f:\n",
    "            json.dump([],f)"
   ]
  },
  {
   "cell_type": "code",
   "execution_count": 9,
   "id": "5b57e168",
   "metadata": {},
   "outputs": [
    {
     "name": "stdout",
     "output_type": "stream",
     "text": [
      "[!]Data/results_in_prog_SF_pizza.json not found. Saving empty list to new file.\n"
     ]
    }
   ],
   "source": [
    "#Create a new empty json file with our function\n",
    "create_json_file(JSON_FILE)"
   ]
  },
  {
   "cell_type": "code",
   "execution_count": 10,
   "id": "2628e243",
   "metadata": {},
   "outputs": [],
   "source": [
    "#Create variables for our search criteria\n",
    "location = \"Sioux Falls, SD\"\n",
    "term = \"pizza\"\n",
    "\n",
    "#Create a variable for our previous results\n",
    "with open(JSON_FILE, 'r') as f:\n",
    "    previous_results = json.load(f)\n",
    "    \n",
    "#Create a variable for number of results (length of our json file) - we will use this as offset\n",
    "n_results = len(previous_results)\n",
    "    \n",
    "#Store our YelpAPI results in a variable\n",
    "results = yelp_api.search_query(location=location, term=term, offset=n_results)"
   ]
  },
  {
   "cell_type": "code",
   "execution_count": 11,
   "id": "4f3e80cb",
   "metadata": {},
   "outputs": [
    {
     "data": {
      "text/plain": [
       "137"
      ]
     },
     "execution_count": 11,
     "metadata": {},
     "output_type": "execute_result"
    }
   ],
   "source": [
    "#Check total results from our search\n",
    "total_results = results['total']\n",
    "total_results"
   ]
  },
  {
   "cell_type": "code",
   "execution_count": 13,
   "id": "cd0a052d",
   "metadata": {},
   "outputs": [
    {
     "data": {
      "text/plain": [
       "20"
      ]
     },
     "execution_count": 13,
     "metadata": {},
     "output_type": "execute_result"
    }
   ],
   "source": [
    "#confirm results per page\n",
    "results_per_page = len(results['businesses'])\n",
    "results_per_page"
   ]
  },
  {
   "cell_type": "code",
   "execution_count": 14,
   "id": "dffc94e8",
   "metadata": {},
   "outputs": [
    {
     "data": {
      "text/plain": [
       "7"
      ]
     },
     "execution_count": 14,
     "metadata": {},
     "output_type": "execute_result"
    }
   ],
   "source": [
    "#Determine the number of pages we have in our results\n",
    "n_pages = math.ceil((results['total']-n_results)/results_per_page)\n",
    "n_pages"
   ]
  },
  {
   "cell_type": "code",
   "execution_count": 15,
   "id": "63803908",
   "metadata": {},
   "outputs": [
    {
     "data": {
      "application/vnd.jupyter.widget-view+json": {
       "model_id": "019942af3c3d4ceaa64d51a51cb36da0",
       "version_major": 2,
       "version_minor": 0
      },
      "text/plain": [
       "  0%|          | 0/7 [00:00<?, ?it/s]"
      ]
     },
     "metadata": {},
     "output_type": "display_data"
    }
   ],
   "source": [
    "#Create a for-loop to run through our pages and save/append them to the json file\n",
    "\n",
    "for i in tqdm_notebook(range(1,n_pages+1)):\n",
    "    \n",
    "    with open(JSON_FILE, 'r') as f:\n",
    "        previous_results = json.load(f)\n",
    "        \n",
    "    n_results = len(previous_results)\n",
    "    \n",
    "    if (n_results + results_per_page) > 1000:\n",
    "        print(\"Exceeded 1000 API calls. Stopping loop\")\n",
    "        break\n",
    "        \n",
    "        \n",
    "    results = yelp_api.search_query(location=location, term=term, offset=n_results)\n",
    "    \n",
    "    previous_results.extend(results['businesses'])\n",
    "    \n",
    "    with open(JSON_FILE, 'w') as f:\n",
    "        json.dump(previous_results,f)\n",
    "        \n",
    "    time.sleep(.2)    "
   ]
  },
  {
   "cell_type": "code",
   "execution_count": 16,
   "id": "aa0c46db",
   "metadata": {},
   "outputs": [
    {
     "data": {
      "text/html": [
       "<div>\n",
       "<style scoped>\n",
       "    .dataframe tbody tr th:only-of-type {\n",
       "        vertical-align: middle;\n",
       "    }\n",
       "\n",
       "    .dataframe tbody tr th {\n",
       "        vertical-align: top;\n",
       "    }\n",
       "\n",
       "    .dataframe thead th {\n",
       "        text-align: right;\n",
       "    }\n",
       "</style>\n",
       "<table border=\"1\" class=\"dataframe\">\n",
       "  <thead>\n",
       "    <tr style=\"text-align: right;\">\n",
       "      <th></th>\n",
       "      <th>id</th>\n",
       "      <th>alias</th>\n",
       "      <th>name</th>\n",
       "      <th>image_url</th>\n",
       "      <th>is_closed</th>\n",
       "      <th>url</th>\n",
       "      <th>review_count</th>\n",
       "      <th>categories</th>\n",
       "      <th>rating</th>\n",
       "      <th>coordinates</th>\n",
       "      <th>transactions</th>\n",
       "      <th>location</th>\n",
       "      <th>phone</th>\n",
       "      <th>display_phone</th>\n",
       "      <th>distance</th>\n",
       "      <th>price</th>\n",
       "    </tr>\n",
       "  </thead>\n",
       "  <tbody>\n",
       "    <tr>\n",
       "      <th>0</th>\n",
       "      <td>eZzz0bu7FnMtvWAS6RL7RQ</td>\n",
       "      <td>pizza-di-paolo-sioux-falls</td>\n",
       "      <td>Pizza di Paolo</td>\n",
       "      <td>https://s3-media4.fl.yelpcdn.com/bphoto/bKlcr9...</td>\n",
       "      <td>False</td>\n",
       "      <td>https://www.yelp.com/biz/pizza-di-paolo-sioux-...</td>\n",
       "      <td>26</td>\n",
       "      <td>[{'alias': 'pizza', 'title': 'Pizza'}]</td>\n",
       "      <td>4.5</td>\n",
       "      <td>{'latitude': 43.5236937890844, 'longitude': -9...</td>\n",
       "      <td>[]</td>\n",
       "      <td>{'address1': '2300 S Minnesota Ave', 'address2...</td>\n",
       "      <td>+16052713935</td>\n",
       "      <td>(605) 271-3935</td>\n",
       "      <td>1121.940229</td>\n",
       "      <td>NaN</td>\n",
       "    </tr>\n",
       "    <tr>\n",
       "      <th>1</th>\n",
       "      <td>RqzB5GHdyKbMiF5FPLZ8ug</td>\n",
       "      <td>pizza-cheeks-sioux-falls</td>\n",
       "      <td>Pizza Cheeks</td>\n",
       "      <td>https://s3-media3.fl.yelpcdn.com/bphoto/ESRDU8...</td>\n",
       "      <td>False</td>\n",
       "      <td>https://www.yelp.com/biz/pizza-cheeks-sioux-fa...</td>\n",
       "      <td>20</td>\n",
       "      <td>[{'alias': 'pizza', 'title': 'Pizza'}, {'alias...</td>\n",
       "      <td>4.5</td>\n",
       "      <td>{'latitude': 43.54656, 'longitude': -96.72637}</td>\n",
       "      <td>[]</td>\n",
       "      <td>{'address1': '120 S Phillips Ave', 'address2':...</td>\n",
       "      <td>+16052710974</td>\n",
       "      <td>(605) 271-0974</td>\n",
       "      <td>1688.354192</td>\n",
       "      <td>NaN</td>\n",
       "    </tr>\n",
       "  </tbody>\n",
       "</table>\n",
       "</div>"
      ],
      "text/plain": [
       "                       id                       alias            name  \\\n",
       "0  eZzz0bu7FnMtvWAS6RL7RQ  pizza-di-paolo-sioux-falls  Pizza di Paolo   \n",
       "1  RqzB5GHdyKbMiF5FPLZ8ug    pizza-cheeks-sioux-falls    Pizza Cheeks   \n",
       "\n",
       "                                           image_url  is_closed  \\\n",
       "0  https://s3-media4.fl.yelpcdn.com/bphoto/bKlcr9...      False   \n",
       "1  https://s3-media3.fl.yelpcdn.com/bphoto/ESRDU8...      False   \n",
       "\n",
       "                                                 url  review_count  \\\n",
       "0  https://www.yelp.com/biz/pizza-di-paolo-sioux-...            26   \n",
       "1  https://www.yelp.com/biz/pizza-cheeks-sioux-fa...            20   \n",
       "\n",
       "                                          categories  rating  \\\n",
       "0             [{'alias': 'pizza', 'title': 'Pizza'}]     4.5   \n",
       "1  [{'alias': 'pizza', 'title': 'Pizza'}, {'alias...     4.5   \n",
       "\n",
       "                                         coordinates transactions  \\\n",
       "0  {'latitude': 43.5236937890844, 'longitude': -9...           []   \n",
       "1     {'latitude': 43.54656, 'longitude': -96.72637}           []   \n",
       "\n",
       "                                            location         phone  \\\n",
       "0  {'address1': '2300 S Minnesota Ave', 'address2...  +16052713935   \n",
       "1  {'address1': '120 S Phillips Ave', 'address2':...  +16052710974   \n",
       "\n",
       "    display_phone     distance price  \n",
       "0  (605) 271-3935  1121.940229   NaN  \n",
       "1  (605) 271-0974  1688.354192   NaN  "
      ]
     },
     "metadata": {},
     "output_type": "display_data"
    },
    {
     "data": {
      "text/html": [
       "<div>\n",
       "<style scoped>\n",
       "    .dataframe tbody tr th:only-of-type {\n",
       "        vertical-align: middle;\n",
       "    }\n",
       "\n",
       "    .dataframe tbody tr th {\n",
       "        vertical-align: top;\n",
       "    }\n",
       "\n",
       "    .dataframe thead th {\n",
       "        text-align: right;\n",
       "    }\n",
       "</style>\n",
       "<table border=\"1\" class=\"dataframe\">\n",
       "  <thead>\n",
       "    <tr style=\"text-align: right;\">\n",
       "      <th></th>\n",
       "      <th>id</th>\n",
       "      <th>alias</th>\n",
       "      <th>name</th>\n",
       "      <th>image_url</th>\n",
       "      <th>is_closed</th>\n",
       "      <th>url</th>\n",
       "      <th>review_count</th>\n",
       "      <th>categories</th>\n",
       "      <th>rating</th>\n",
       "      <th>coordinates</th>\n",
       "      <th>transactions</th>\n",
       "      <th>location</th>\n",
       "      <th>phone</th>\n",
       "      <th>display_phone</th>\n",
       "      <th>distance</th>\n",
       "      <th>price</th>\n",
       "    </tr>\n",
       "  </thead>\n",
       "  <tbody>\n",
       "    <tr>\n",
       "      <th>135</th>\n",
       "      <td>6NJYMQhEyfCGWImjshuWhA</td>\n",
       "      <td>popeyes-louisiana-kitchen-sioux-falls</td>\n",
       "      <td>Popeyes Louisiana Kitchen</td>\n",
       "      <td>https://s3-media4.fl.yelpcdn.com/bphoto/UcCOJC...</td>\n",
       "      <td>False</td>\n",
       "      <td>https://www.yelp.com/biz/popeyes-louisiana-kit...</td>\n",
       "      <td>28</td>\n",
       "      <td>[{'alias': 'chicken_wings', 'title': 'Chicken ...</td>\n",
       "      <td>2.0</td>\n",
       "      <td>{'latitude': 43.5469339136705, 'longitude': -9...</td>\n",
       "      <td>[pickup, delivery]</td>\n",
       "      <td>{'address1': '2208 E 10th St', 'address2': '',...</td>\n",
       "      <td>+16052714102</td>\n",
       "      <td>(605) 271-4102</td>\n",
       "      <td>3420.082527</td>\n",
       "      <td>$</td>\n",
       "    </tr>\n",
       "    <tr>\n",
       "      <th>136</th>\n",
       "      <td>f6PBBzEb4iAehxO45qS-jg</td>\n",
       "      <td>chilis-sioux-falls</td>\n",
       "      <td>Chili's</td>\n",
       "      <td>https://s3-media1.fl.yelpcdn.com/bphoto/ZgFwWe...</td>\n",
       "      <td>False</td>\n",
       "      <td>https://www.yelp.com/biz/chilis-sioux-falls?ad...</td>\n",
       "      <td>41</td>\n",
       "      <td>[{'alias': 'bars', 'title': 'Bars'}, {'alias':...</td>\n",
       "      <td>2.5</td>\n",
       "      <td>{'latitude': 43.5149749, 'longitude': -96.7725...</td>\n",
       "      <td>[pickup, delivery]</td>\n",
       "      <td>{'address1': '3720 W 41st St', 'address2': '',...</td>\n",
       "      <td>+16053613900</td>\n",
       "      <td>(605) 361-3900</td>\n",
       "      <td>3553.195081</td>\n",
       "      <td>$$</td>\n",
       "    </tr>\n",
       "  </tbody>\n",
       "</table>\n",
       "</div>"
      ],
      "text/plain": [
       "                         id                                  alias  \\\n",
       "135  6NJYMQhEyfCGWImjshuWhA  popeyes-louisiana-kitchen-sioux-falls   \n",
       "136  f6PBBzEb4iAehxO45qS-jg                     chilis-sioux-falls   \n",
       "\n",
       "                          name  \\\n",
       "135  Popeyes Louisiana Kitchen   \n",
       "136                    Chili's   \n",
       "\n",
       "                                             image_url  is_closed  \\\n",
       "135  https://s3-media4.fl.yelpcdn.com/bphoto/UcCOJC...      False   \n",
       "136  https://s3-media1.fl.yelpcdn.com/bphoto/ZgFwWe...      False   \n",
       "\n",
       "                                                   url  review_count  \\\n",
       "135  https://www.yelp.com/biz/popeyes-louisiana-kit...            28   \n",
       "136  https://www.yelp.com/biz/chilis-sioux-falls?ad...            41   \n",
       "\n",
       "                                            categories  rating  \\\n",
       "135  [{'alias': 'chicken_wings', 'title': 'Chicken ...     2.0   \n",
       "136  [{'alias': 'bars', 'title': 'Bars'}, {'alias':...     2.5   \n",
       "\n",
       "                                           coordinates        transactions  \\\n",
       "135  {'latitude': 43.5469339136705, 'longitude': -9...  [pickup, delivery]   \n",
       "136  {'latitude': 43.5149749, 'longitude': -96.7725...  [pickup, delivery]   \n",
       "\n",
       "                                              location         phone  \\\n",
       "135  {'address1': '2208 E 10th St', 'address2': '',...  +16052714102   \n",
       "136  {'address1': '3720 W 41st St', 'address2': '',...  +16053613900   \n",
       "\n",
       "      display_phone     distance price  \n",
       "135  (605) 271-4102  3420.082527     $  \n",
       "136  (605) 361-3900  3553.195081    $$  "
      ]
     },
     "metadata": {},
     "output_type": "display_data"
    }
   ],
   "source": [
    "#Check out final results in a dataframe\n",
    "\n",
    "final_df = pd.read_json(JSON_FILE)\n",
    "display(final_df.head(2), final_df.tail(2))"
   ]
  },
  {
   "cell_type": "code",
   "execution_count": 18,
   "id": "33b8b487",
   "metadata": {},
   "outputs": [
    {
     "data": {
      "text/plain": [
       "0"
      ]
     },
     "execution_count": 18,
     "metadata": {},
     "output_type": "execute_result"
    }
   ],
   "source": [
    "#Quick check for duplicates\n",
    "\n",
    "final_df.duplicated(subset='id').sum()"
   ]
  },
  {
   "cell_type": "code",
   "execution_count": 19,
   "id": "0ad25068",
   "metadata": {},
   "outputs": [],
   "source": [
    "#Save our results to CSV in our data folder\n",
    "\n",
    "final_df.to_csv('Data/final_results_SF_pizza.csv', index=False)"
   ]
  },
  {
   "cell_type": "code",
   "execution_count": null,
   "id": "b9f64b4c",
   "metadata": {},
   "outputs": [],
   "source": []
  }
 ],
 "metadata": {
  "kernelspec": {
   "display_name": "Python (dojo-env)",
   "language": "python",
   "name": "dojo-env"
  },
  "language_info": {
   "codemirror_mode": {
    "name": "ipython",
    "version": 3
   },
   "file_extension": ".py",
   "mimetype": "text/x-python",
   "name": "python",
   "nbconvert_exporter": "python",
   "pygments_lexer": "ipython3",
   "version": "3.8.13"
  },
  "toc": {
   "base_numbering": 1,
   "nav_menu": {},
   "number_sections": false,
   "sideBar": true,
   "skip_h1_title": false,
   "title_cell": "Table of Contents",
   "title_sidebar": "Contents",
   "toc_cell": false,
   "toc_position": {},
   "toc_section_display": true,
   "toc_window_display": false
  }
 },
 "nbformat": 4,
 "nbformat_minor": 5
}
